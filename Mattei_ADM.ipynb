{
 "cells": [
  {
   "cell_type": "markdown",
   "id": "81bc6072-ba4a-4dca-934b-97b7706c3083",
   "metadata": {},
   "source": [
    "# INTRODUCTION"
   ]
  },
  {
   "cell_type": "markdown",
   "id": "96a50b21-2304-4c75-98b1-763a8ff7d311",
   "metadata": {},
   "source": [
    "Say \"Hello, world!\" With Python"
   ]
  },
  {
   "cell_type": "code",
   "execution_count": 1,
   "id": "6943055a-6324-4f33-89cf-2229168594b1",
   "metadata": {},
   "outputs": [
    {
     "name": "stdout",
     "output_type": "stream",
     "text": [
      "Hello, World!\n"
     ]
    }
   ],
   "source": [
    "print(\"Hello, World!\")"
   ]
  },
  {
   "cell_type": "markdown",
   "id": "7e00d5df-c1c6-489e-87d5-765b92714437",
   "metadata": {},
   "source": [
    "Python If-else"
   ]
  },
  {
   "cell_type": "code",
   "execution_count": null,
   "id": "e59987d3-97df-4520-920d-20043db0be9d",
   "metadata": {},
   "outputs": [],
   "source": [
    "import math\n",
    "import os\n",
    "import random\n",
    "import re\n",
    "import sys\n",
    "\n",
    "n = int(raw_input().strip())\n",
    "if n%2!=0:\n",
    "    print(\"Weird\")\n",
    "else:\n",
    "    if n<=5:\n",
    "        print(\"Not Weird\")\n",
    "    else:\n",
    "        if n<=20:\n",
    "            print(\"Weird\")\n",
    "        else:\n",
    "            print(\"Not Weird\")"
   ]
  },
  {
   "cell_type": "markdown",
   "id": "239ce8d9-09bf-4f0c-9bf6-d881f0dbaa1e",
   "metadata": {},
   "source": [
    "Arithmetic Operators"
   ]
  },
  {
   "cell_type": "code",
   "execution_count": null,
   "id": "38d3f000-069e-4a69-acd7-2da8a1c629e6",
   "metadata": {},
   "outputs": [],
   "source": [
    "a = int(raw_input())\n",
    "b = int(raw_input())\n",
    "print(a+b)\n",
    "print(a-b)\n",
    "print(a*b)"
   ]
  },
  {
   "cell_type": "markdown",
   "id": "da652029-7560-45f5-9cda-ca4800622f79",
   "metadata": {},
   "source": [
    "Python: Division"
   ]
  },
  {
   "cell_type": "code",
   "execution_count": null,
   "id": "d9742154-5439-4cf2-a707-37dce179fac0",
   "metadata": {},
   "outputs": [],
   "source": [
    "from __future__ import division\n",
    "\n",
    "\n",
    "a = int(raw_input())\n",
    "b = int(raw_input())\n",
    "print(a//b)\n",
    "print(a/b)"
   ]
  },
  {
   "cell_type": "markdown",
   "id": "dad2b089-80bc-45b7-9d1c-4ef5811a4dc5",
   "metadata": {},
   "source": [
    "Loops"
   ]
  },
  {
   "cell_type": "code",
   "execution_count": null,
   "id": "f1031ed9-2a28-4816-af2c-54ffd93086d0",
   "metadata": {},
   "outputs": [],
   "source": [
    "if __name__ == '__main__':\n",
    "    n = int(raw_input())\n",
    "a=range(0,n)\n",
    "for i in a:\n",
    "    print(i*i)"
   ]
  },
  {
   "cell_type": "markdown",
   "id": "3d6562c7-ef5f-4bc0-8d0f-09e13765fb8c",
   "metadata": {},
   "source": [
    "Write a function"
   ]
  },
  {
   "cell_type": "code",
   "execution_count": null,
   "id": "ade9faea-883d-41e4-9c0a-f0b6a752c581",
   "metadata": {},
   "outputs": [],
   "source": [
    "def is_leap(year):\n",
    "    leap = False\n",
    "    if year%4==0:\n",
    "        leap=True\n",
    "        if year%100==0:\n",
    "            leap=False\n",
    "            if year%400==0:\n",
    "                leap=True\n",
    "    \n",
    "    \n",
    "    \n",
    "    return leap\n",
    "\n",
    "year = int(raw_input())\n",
    "print is_leap(year)"
   ]
  },
  {
   "cell_type": "markdown",
   "id": "1344e26e-444e-4379-a282-43e933e090e6",
   "metadata": {},
   "source": [
    "Print Function"
   ]
  },
  {
   "cell_type": "code",
   "execution_count": null,
   "id": "26af9477-03f5-4ac5-b594-8f822287646c",
   "metadata": {},
   "outputs": [],
   "source": [
    "from __future__ import print_function\n",
    "\n",
    "n = int(raw_input())\n",
    "\n",
    "print(*range(1,n+1), sep=\"\")  #taken from the discussion"
   ]
  },
  {
   "cell_type": "markdown",
   "id": "799bfa9f-cbca-4d07-9741-a3cfa2ead8ec",
   "metadata": {},
   "source": [
    "# BASIC DATA TYPES"
   ]
  },
  {
   "cell_type": "markdown",
   "id": "d44c71cd-5543-49a9-912d-f691010fe173",
   "metadata": {},
   "source": [
    "List Comprehensions"
   ]
  },
  {
   "cell_type": "code",
   "execution_count": null,
   "id": "b7c19b7f-0d20-4f8e-9269-cee559ba49d3",
   "metadata": {},
   "outputs": [],
   "source": [
    "if __name__ == '__main__':\n",
    "    x = int(raw_input())\n",
    "    y = int(raw_input())\n",
    "    z = int(raw_input())\n",
    "    n = int(raw_input())\n",
    "print([[a,b,c] for a in range(0,x+1) for b in range(0,y+1) for c in range(0,z+1) if a+b+c!=n])"
   ]
  },
  {
   "cell_type": "markdown",
   "id": "60968e1f-2328-4ecd-bb0a-16b567998555",
   "metadata": {},
   "source": [
    "Find the Runner-up Score"
   ]
  },
  {
   "cell_type": "code",
   "execution_count": null,
   "id": "fb0b26d6-eef8-4d93-8a6f-beca1ce5bd4f",
   "metadata": {},
   "outputs": [],
   "source": [
    "n = int(raw_input())\n",
    "arr = map(int, raw_input().split())\n",
    "a=max(arr)\n",
    "while max(arr)==a:\n",
    "    arr.remove(max(arr))\n",
    "print(max(arr))"
   ]
  },
  {
   "cell_type": "markdown",
   "id": "3ef9485e-48f2-4810-9a49-24bf1decb133",
   "metadata": {},
   "source": [
    "Nested List"
   ]
  },
  {
   "cell_type": "code",
   "execution_count": null,
   "id": "45b1105c-6263-42a6-b502-2907032adc41",
   "metadata": {},
   "outputs": [],
   "source": [
    "if __name__ == '__main__':\n",
    "    n=int(raw_input())\n",
    "    name=[]\n",
    "    score=[]\n",
    "    for _ in range(n):\n",
    "        name.append(raw_input())\n",
    "        score.append(float(raw_input()))\n",
    "\n",
    "k=dict(zip(name,score))\n",
    "sm=sorted(set(score))[1]\n",
    "a=[]\n",
    "for i in range(len(name)):\n",
    "    if k[name[i]]==sm:\n",
    "        a.append(name[i])\n",
    "a=sorted(a)       \n",
    "for i in range(len(a)):\n",
    "    print(a[i])"
   ]
  },
  {
   "cell_type": "markdown",
   "id": "a835d09f-4a06-44ac-b760-b68b9cfd608e",
   "metadata": {},
   "source": [
    "Finding the Percentage"
   ]
  },
  {
   "cell_type": "code",
   "execution_count": null,
   "id": "dc01efa3-0752-4d6d-ba64-a304828ded99",
   "metadata": {},
   "outputs": [],
   "source": [
    "if __name__ == '__main__':\n",
    "    n = int(raw_input())\n",
    "    student_marks = {}\n",
    "    for _ in range(n):\n",
    "        line = raw_input().split()\n",
    "        name, scores = line[0], line[1:]\n",
    "        scores = map(float, scores)\n",
    "        student_marks[name] = scores\n",
    "    query_name = raw_input()\n",
    "\n",
    "a=student_marks[query_name][0]\n",
    "for i in range (1,len(student_marks[query_name])):\n",
    "    a=a+student_marks[query_name][i]\n",
    "\n",
    "b=round(a/len(student_marks[query_name]),2)\n",
    "print(\"%0.2f\" %b)"
   ]
  },
  {
   "cell_type": "markdown",
   "id": "a6c56661-3a43-4c32-a3b3-d446a320781c",
   "metadata": {},
   "source": [
    "List"
   ]
  },
  {
   "cell_type": "code",
   "execution_count": null,
   "id": "77e6c623-09b8-4db9-aea0-e27e5060abe3",
   "metadata": {},
   "outputs": [],
   "source": [
    "N = int(raw_input())\n",
    "k = []\n",
    "\n",
    "for i in range(N):\n",
    "    a = raw_input().split()\n",
    "    if a[0] == 'insert':\n",
    "        k.insert(int(a[1]), int(a[2]))\n",
    "    elif a[0] == 'append':\n",
    "        k.append(int(a[1]))\n",
    "    elif a[0] == 'remove':\n",
    "        k.remove(int(a[1]))\n",
    "    elif a[0] == 'pop':\n",
    "        k.pop()\n",
    "    elif a[0] == 'sort':\n",
    "        k.sort()\n",
    "    elif a[0] == 'reverse':\n",
    "        k.reverse()\n",
    "    else:\n",
    "        print k"
   ]
  },
  {
   "cell_type": "markdown",
   "id": "327bea36-e2a7-42e8-a578-e3426be04a5a",
   "metadata": {},
   "source": [
    "Tuples"
   ]
  },
  {
   "cell_type": "code",
   "execution_count": null,
   "id": "7a1ff3cb-a7eb-4837-bc92-0c4f7129a08d",
   "metadata": {},
   "outputs": [],
   "source": [
    "if __name__ == '__main__':\n",
    "    n = int(raw_input())\n",
    "    integer_list = map(int, raw_input().split())\n",
    "\n",
    "t=tuple(integer_list)\n",
    "print(hash(t))"
   ]
  },
  {
   "cell_type": "markdown",
   "id": "4d865f7c-3a67-420d-93c0-184e87b96ccd",
   "metadata": {},
   "source": [
    "# STRINGS "
   ]
  },
  {
   "cell_type": "markdown",
   "id": "f7898747-4a68-46b1-9fa8-b462a23ffa5c",
   "metadata": {},
   "source": [
    "sWAP cASE"
   ]
  },
  {
   "cell_type": "code",
   "execution_count": null,
   "id": "0909464b-13b4-4c49-803f-eca2832073a0",
   "metadata": {},
   "outputs": [],
   "source": [
    "def swap_case(s):\n",
    "    a=s.swapcase()\n",
    "    return a\n",
    "\n",
    "if __name__ == '__main__':\n",
    "    s = raw_input()\n",
    "    result = swap_case(s)\n",
    "    print result"
   ]
  },
  {
   "cell_type": "markdown",
   "id": "69d3d607-7a29-4ede-a063-dea1f686b90c",
   "metadata": {},
   "source": [
    "String Split and Join"
   ]
  },
  {
   "cell_type": "code",
   "execution_count": null,
   "id": "3e08b5f9-379a-4dc9-9c46-6d373b2b2823",
   "metadata": {},
   "outputs": [],
   "source": [
    "def split_and_join(line):\n",
    "    a=line.split(\" \")\n",
    "    b=\"-\".join(a)\n",
    "    return b\n",
    "\n",
    "if __name__ == '__main__':\n",
    "    line = raw_input()\n",
    "    result = split_and_join(line)\n",
    "    print result"
   ]
  },
  {
   "cell_type": "markdown",
   "id": "91f9d263-2165-48e8-96d3-5082cf9231d3",
   "metadata": {},
   "source": [
    "What's Your Name?"
   ]
  },
  {
   "cell_type": "code",
   "execution_count": null,
   "id": "b1480577-9d55-4be7-bf75-ab9da31e8c9f",
   "metadata": {},
   "outputs": [],
   "source": [
    "def print_full_name(first, last):\n",
    "    print(\"Hello {} {}! You just delved into python.\".format(first,last))\n",
    "\n",
    "if __name__ == '__main__':\n",
    "    first_name = raw_input()\n",
    "    last_name = raw_input()\n",
    "    print_full_name(first_name, last_name)"
   ]
  },
  {
   "cell_type": "markdown",
   "id": "fd26f2b8-aba4-4f05-83cb-906fc257b73d",
   "metadata": {},
   "source": [
    "Mutations"
   ]
  },
  {
   "cell_type": "code",
   "execution_count": null,
   "id": "e88ed90f-b012-43f6-b98f-2b225445888d",
   "metadata": {},
   "outputs": [],
   "source": [
    "def mutate_string(string, position, character):\n",
    "    y=string[:position]+character+string[position+1:]\n",
    "    return y\n",
    "\n",
    "if __name__ == '__main__':\n",
    "    s = raw_input()\n",
    "    i, c = raw_input().split()\n",
    "    s_new = mutate_string(s, int(i), c)\n",
    "    print s_new"
   ]
  },
  {
   "cell_type": "markdown",
   "id": "61c0f7a8-a21f-4f80-a79a-3d17bc719dde",
   "metadata": {},
   "source": [
    "Find a String"
   ]
  },
  {
   "cell_type": "code",
   "execution_count": null,
   "id": "51e642e2-60a3-49d9-aa2c-473fe70bce94",
   "metadata": {},
   "outputs": [],
   "source": [
    "def count_substring(string, sub_string):\n",
    "    a=0\n",
    "    for i in range(len(string)-len(sub_string)+1):\n",
    "        if string[i:i+len(sub_string)]==sub_string:\n",
    "            a+=1\n",
    "    return a\n",
    "\n",
    "if __name__ == '__main__':\n",
    "    string = raw_input().strip()\n",
    "    sub_string = raw_input().strip()\n",
    "    \n",
    "    count = count_substring(string, sub_string)\n",
    "    print count"
   ]
  },
  {
   "cell_type": "markdown",
   "id": "e4a16d02-9c76-4d44-8b89-de212228088b",
   "metadata": {},
   "source": [
    "String Validator"
   ]
  },
  {
   "cell_type": "code",
   "execution_count": null,
   "id": "1d80b718-0189-4e72-abd2-553f535e499d",
   "metadata": {},
   "outputs": [],
   "source": [
    "if __name__ == '__main__':\n",
    "    s = raw_input()\n",
    "a=\"False\"\n",
    "for i in range(len(s)):\n",
    "    if s[i].isalnum():\n",
    "        a=\"True\"\n",
    "        break\n",
    "print(a)\n",
    "a=\"False\"\n",
    "for i in range(len(s)):\n",
    "    if s[i].isalpha():\n",
    "        a=\"True\"\n",
    "        break\n",
    "print(a)\n",
    "a=\"False\"\n",
    "for i in range(len(s)):\n",
    "    if s[i].isdigit():\n",
    "        a=\"True\"\n",
    "        break  \n",
    "print(a)  \n",
    "a=\"False\"\n",
    "for i in range(len(s)):\n",
    "    if s[i].islower():\n",
    "        a=\"True\"\n",
    "        break\n",
    "print(a)\n",
    "a=\"False\"\n",
    "for i in range(len(s)):\n",
    "    if s[i].isupper():\n",
    "        a=\"True\"\n",
    "        break\n",
    "print(a)\n",
    "a=\"False\""
   ]
  },
  {
   "cell_type": "markdown",
   "id": "d9c589c5-6fe8-4325-b70d-e2cc9b7bb3c8",
   "metadata": {},
   "source": [
    "Text Alignment"
   ]
  },
  {
   "cell_type": "code",
   "execution_count": null,
   "id": "2c4aaaa6-b5cd-4316-a962-eeeae571fc90",
   "metadata": {},
   "outputs": [],
   "source": [
    "#Replace all ______ with rjust, ljust or center. \n",
    "\n",
    "thickness = int(raw_input()) #This must be an odd number\n",
    "c = 'H'\n",
    "\n",
    "#Top Cone\n",
    "for i in range(thickness):\n",
    "    print (c*i).rjust(thickness-1)+c+(c*i).ljust(thickness-1)\n",
    "\n",
    "#Top Pillars\n",
    "for i in range(thickness+1):\n",
    "    print (c*thickness).center(thickness*2)+(c*thickness).center(thickness*6)\n",
    "\n",
    "#Middle Belt\n",
    "for i in range((thickness+1)/2):\n",
    "    print (c*thickness*5).center(thickness*6)    \n",
    "\n",
    "#Bottom Pillars\n",
    "for i in range(thickness+1):\n",
    "    print (c*thickness).center(thickness*2)+(c*thickness).center(thickness*6)    \n",
    "\n",
    "#Bottom Cone\n",
    "for i in range(thickness):\n",
    "    print ((c*(thickness-i-1)).rjust(thickness)+c+(c*(thickness-i-1)).ljust(thickness)).rjust(thickness*6)"
   ]
  },
  {
   "cell_type": "markdown",
   "id": "f75ce7e6-f17b-4380-b6cb-f056d7bfd216",
   "metadata": {},
   "source": [
    "Text Wrap"
   ]
  },
  {
   "cell_type": "code",
   "execution_count": null,
   "id": "769244f3-7593-4932-9675-05545c33fdfd",
   "metadata": {},
   "outputs": [],
   "source": [
    "import textwrap\n",
    "\n",
    "def wrap(string, max_width):\n",
    "    a=len(string)//max_width\n",
    "    if len(string)%max_width!=0:\n",
    "        a+=1\n",
    "    for i in range(1,a):\n",
    "        string=string[:i*max_width+(i-1)]+\"\\n\"+string[i*max_width+(i-1):]\n",
    "    return string\n",
    "\n",
    "if __name__ == '__main__':\n",
    "    string, max_width = raw_input(), int(raw_input())\n",
    "    result = wrap(string, max_width)\n",
    "    print result"
   ]
  },
  {
   "cell_type": "markdown",
   "id": "f3a99410-200e-49cd-867d-667db4d84e70",
   "metadata": {},
   "source": [
    "Designer Door Mat"
   ]
  },
  {
   "cell_type": "code",
   "execution_count": null,
   "id": "bb161de5-077a-4052-996a-3489dbcf341d",
   "metadata": {},
   "outputs": [],
   "source": [
    "n, m = map(int,raw_input().split())\n",
    "pattern = [('.|.'*(2*i + 1)).center(m, '-') for i in range(n//2)]\n",
    "print('\\n'.join(pattern + ['WELCOME'.center(m, '-')] + pattern[::-1]))\n",
    "#taken from the discussion "
   ]
  },
  {
   "cell_type": "markdown",
   "id": "a7e4bb1b-ed58-448d-8ec1-c1e1896fb5ea",
   "metadata": {},
   "source": [
    "String Formatting"
   ]
  },
  {
   "cell_type": "code",
   "execution_count": null,
   "id": "e8558aa2-cbd1-41af-a5dd-65ddade3671b",
   "metadata": {},
   "outputs": [],
   "source": [
    "def print_formatted(number):\n",
    "    vals = []\n",
    "    width = 0\n",
    "\n",
    "    for i in range(1, number+1):\n",
    "        s1 = str(i)\n",
    "        s2 = str(oct(i))[1:]\n",
    "        s3 = (str(hex(i))[2:]).upper()\n",
    "        s4 = str(bin(i))[2:]\n",
    "        a = [s1, s2, s3, s4]\n",
    "        vals.append(a)\n",
    "        width = max(width, len(a[3]))\n",
    "\n",
    "    for i in range(number):\n",
    "        for j in range(4):\n",
    "            print vals[i][j].rjust(width, ' '),\n",
    "        print\n",
    "\n",
    "if __name__ == '__main__':\n",
    "    n = int(raw_input())\n",
    "    print_formatted(n)                    #taken from the discussion"
   ]
  },
  {
   "cell_type": "markdown",
   "id": "26c27fce-8263-47a2-84e0-ef2197a222ac",
   "metadata": {},
   "source": [
    "Alphabet Rangoli"
   ]
  },
  {
   "cell_type": "code",
   "execution_count": null,
   "id": "6fc0c64b-59f0-4e96-bb52-5c63bfb54766",
   "metadata": {},
   "outputs": [],
   "source": [
    "import string\n",
    "def print_rangoli(size):\n",
    "    st = string.ascii_lowercase[0:size]\n",
    "    i=size-1\n",
    "    while i>0:\n",
    "        print (\"--\"*i+ '-'.join(st[size:i:-1]+st[i:size])+\"--\"*i)\n",
    "        i=i-1\n",
    "\n",
    "    for i in range(size):\n",
    "        print (\"--\"*i+ '-'.join(st[size:i:-1]+st[i:size])+\"--\"*i)\n",
    "          \n",
    "\n",
    "if __name__ == '__main__':\n",
    "    n = int(raw_input())\n",
    "    print_rangoli(n)"
   ]
  },
  {
   "cell_type": "markdown",
   "id": "78ba9f53-3ba7-49e1-9a09-b1cb4f21a76b",
   "metadata": {},
   "source": [
    "Capitalize!"
   ]
  },
  {
   "cell_type": "code",
   "execution_count": null,
   "id": "8e865a1b-73b2-4f6e-8636-ad410fc858ab",
   "metadata": {},
   "outputs": [],
   "source": [
    "import math\n",
    "import os\n",
    "import random\n",
    "import re\n",
    "import sys\n",
    "import string\n",
    "# Complete the solve function below.\n",
    "def solve(s):\n",
    "    a = s.split(' ')\n",
    "    for i in xrange(len(a)):\n",
    "        a[i] = string.capitalize(a[i])\n",
    "\n",
    "    s= ' '.join(a)\n",
    "    return s\n",
    "if __name__ == '__main__':\n",
    "    fptr = open(os.environ['OUTPUT_PATH'], 'w')\n",
    "\n",
    "    s = raw_input()\n",
    "\n",
    "    result = solve(s)\n",
    "\n",
    "    fptr.write(result + '\\n')\n",
    "\n",
    "    fptr.close()"
   ]
  },
  {
   "cell_type": "markdown",
   "id": "232ec5c1-5e32-47d2-a770-688cc2a5dcf5",
   "metadata": {},
   "source": [
    "The Minion Game"
   ]
  },
  {
   "cell_type": "code",
   "execution_count": null,
   "id": "fca14bd4-0c60-4685-a289-25330e625294",
   "metadata": {},
   "outputs": [],
   "source": [
    "def minion_game(string):\n",
    "    v= [\"A\",\"E\",\"I\",\"O\",\"U\"]\n",
    "    a=0\n",
    "    b=0\n",
    "    for i in range(len(string)):\n",
    "        if string[i] in v:\n",
    "            b+=len(string)-i\n",
    "        else:\n",
    "            a+=len(string)-i\n",
    "            \n",
    "        \n",
    "    if a == b:\n",
    "        print \"Draw\"\n",
    "    elif a > b:\n",
    "        print 'Stuart {}'.format(a)\n",
    "    else:\n",
    "        print 'Kevin {}'.format(b)\n",
    "    \n",
    "if __name__ == '__main__':\n",
    "    s = raw_input()\n",
    "    minion_game(s)"
   ]
  },
  {
   "cell_type": "markdown",
   "id": "b0c9c830-91a8-4dcc-8a0f-215e0f3b83f6",
   "metadata": {},
   "source": [
    "Merge the Tools"
   ]
  },
  {
   "cell_type": "code",
   "execution_count": null,
   "id": "4f5b3a0b-62f6-42c3-b02b-f2acad8aa0d8",
   "metadata": {},
   "outputs": [],
   "source": [
    "def merge_the_tools(string, k):\n",
    "    a=[]\n",
    "    for i in range(len(string)//k):\n",
    "        a.append(string[(i*k):(k*(i+1))])\n",
    "    for i in range(len(a)):\n",
    "        s=\"\"\n",
    "        for j in range(k):\n",
    "            if a[i][j] not in s:\n",
    "                s+=a[i][j]\n",
    "        print(s)\n",
    "            \n",
    "if __name__ == '__main__':\n",
    "    string, k = raw_input(), int(raw_input())\n",
    "    merge_the_tools(string, k)"
   ]
  },
  {
   "cell_type": "markdown",
   "id": "8a7dcfd5-f883-4fca-82b0-1657dc08303c",
   "metadata": {},
   "source": [
    "# SETS"
   ]
  },
  {
   "cell_type": "markdown",
   "id": "e3f3ffb3-b144-4c36-bf8e-5b4b9304e1fa",
   "metadata": {},
   "source": [
    "Introduction to Sets"
   ]
  },
  {
   "cell_type": "code",
   "execution_count": null,
   "id": "52548f7c-917e-48ce-a0e4-b9566d6802d0",
   "metadata": {},
   "outputs": [],
   "source": [
    "from __future__ import division\n",
    "\n",
    "def average(array):\n",
    "    result=sum(list(set(array)))/len(list(set(array)))\n",
    "    return result\n",
    "\n",
    "if __name__ == '__main__':\n",
    "    n = int(raw_input())\n",
    "    arr = map(int, raw_input().split())\n",
    "    result = average(arr)\n",
    "    print result"
   ]
  },
  {
   "cell_type": "markdown",
   "id": "118c2c54-bf12-4eb1-9fdd-9e86f2fe0c00",
   "metadata": {},
   "source": [
    "No Idea!"
   ]
  },
  {
   "cell_type": "code",
   "execution_count": null,
   "id": "24d4881d-2c7e-439c-a282-a840b759f804",
   "metadata": {},
   "outputs": [],
   "source": [
    "n,m=raw_input().split()\n",
    "a=raw_input().split()\n",
    "A=set(raw_input().split())\n",
    "B=set(raw_input().split())\n",
    "t=0\n",
    "for i in a:\n",
    "    if i in A:\n",
    "        t+=1\n",
    "    elif i in B:\n",
    "        t-=1\n",
    "print(t)"
   ]
  },
  {
   "cell_type": "markdown",
   "id": "c15b6003-064b-4869-ae43-d2d2d5f93290",
   "metadata": {},
   "source": [
    "Symmetric Difference"
   ]
  },
  {
   "cell_type": "code",
   "execution_count": null,
   "id": "79beb05b-bff9-499a-bdff-f13f7215aec3",
   "metadata": {},
   "outputs": [],
   "source": [
    "m=raw_input().split()\n",
    "M=set(map(int,raw_input().split()))\n",
    "n=raw_input().split()\n",
    "N=set(map(int,raw_input().split()))\n",
    "a=M.difference(N)\n",
    "b=N.difference(M)\n",
    "c=list(a.union(b))\n",
    "c.sort()\n",
    "for i in range(len(c)):\n",
    "    print(c[i])"
   ]
  },
  {
   "cell_type": "markdown",
   "id": "349f89f8-ea7b-4123-b148-04bfeb716029",
   "metadata": {},
   "source": [
    "set.add()"
   ]
  },
  {
   "cell_type": "code",
   "execution_count": null,
   "id": "8d1a4ca3-9b60-4124-ac02-d0c70d41cc8e",
   "metadata": {},
   "outputs": [],
   "source": [
    "n=int(raw_input())\n",
    "N=[]\n",
    "for i in range(n):\n",
    "    N.append(raw_input())\n",
    "print(len(set(N)))"
   ]
  },
  {
   "cell_type": "markdown",
   "id": "1e2eb531-e40d-4cd4-b0f4-a02adf800bf1",
   "metadata": {},
   "source": [
    "Set .discard(), .remove() & .pop()"
   ]
  },
  {
   "cell_type": "code",
   "execution_count": null,
   "id": "1f691c1b-1b34-4a9a-b6e0-061188953c4d",
   "metadata": {},
   "outputs": [],
   "source": [
    "n = int(input())\n",
    "k = set(map(int,input().split()))\n",
    "N=int(input())\n",
    "for i in range(N):\n",
    "    a = input().split()\n",
    "    if a[0] == 'pop':\n",
    "        k.pop()\n",
    "    elif a[0] == 'remove':\n",
    "        if int(a[1]) in k:\n",
    "            k.remove(int(a[1]))\n",
    "    elif a[0] == 'discard':\n",
    "        k.discard(int(a[1]))        \n",
    "print(sum(k))"
   ]
  },
  {
   "cell_type": "markdown",
   "id": "8b7fd289-ab97-4cff-b4fa-cef5237a83dd",
   "metadata": {},
   "source": [
    "set.union() Operation"
   ]
  },
  {
   "cell_type": "code",
   "execution_count": null,
   "id": "91ed5f3c-b8d8-4f82-bfe7-c84d31629e2d",
   "metadata": {},
   "outputs": [],
   "source": [
    "1=int(raw_input())\n",
    "np1=set(map(int,raw_input().split()))\n",
    "n2=int(raw_input())\n",
    "np2=set(map(int,raw_input().split()))\n",
    "print(len(np1.union(np2)))"
   ]
  },
  {
   "cell_type": "markdown",
   "id": "8aa22bb3-92f7-4b97-9f8c-fcb9a5741e9a",
   "metadata": {},
   "source": [
    "set.intersection() Operation"
   ]
  },
  {
   "cell_type": "code",
   "execution_count": null,
   "id": "b7a4b51a-d9f8-477f-aa11-2d010e67f667",
   "metadata": {},
   "outputs": [],
   "source": [
    "n=int(raw_input())\n",
    "N=set(map(int,raw_input().split()))\n",
    "b=int(raw_input())\n",
    "B=set(map(int,raw_input().split()))\n",
    "print(len(N.intersection(B)))"
   ]
  },
  {
   "cell_type": "markdown",
   "id": "693d32e5-67c9-4cd9-a9f8-6702ee606020",
   "metadata": {},
   "source": [
    "set.difference() Operation"
   ]
  },
  {
   "cell_type": "code",
   "execution_count": null,
   "id": "19dcb903-be56-44e5-9427-47f69a51b608",
   "metadata": {},
   "outputs": [],
   "source": [
    "n=int(raw_input())\n",
    "N=set(map(int,raw_input().split()))\n",
    "b=int(raw_input())\n",
    "B=set(map(int,raw_input().split()))\n",
    "print(len(N.difference(B)))"
   ]
  },
  {
   "cell_type": "markdown",
   "id": "13f0f52d-7c84-4927-9b78-c542f29547d5",
   "metadata": {},
   "source": [
    "set.symmetric_difference() Operation"
   ]
  },
  {
   "cell_type": "code",
   "execution_count": null,
   "id": "af0b7af5-0988-4246-b83c-9d99304fc9be",
   "metadata": {},
   "outputs": [],
   "source": [
    "n=int(raw_input())\n",
    "N=set(map(int,raw_input().split()))\n",
    "b=int(raw_input())\n",
    "B=set(map(int,raw_input().split()))\n",
    "print(len(N.symmetric_difference(B)))"
   ]
  },
  {
   "cell_type": "markdown",
   "id": "6dd16cd4-c691-4aea-a031-a88d44123038",
   "metadata": {},
   "source": [
    "Set Mutations"
   ]
  },
  {
   "cell_type": "code",
   "execution_count": null,
   "id": "ce4ad2fe-d4e5-482d-aceb-638e6b85a1fd",
   "metadata": {},
   "outputs": [],
   "source": [
    "n = int(raw_input())\n",
    "k = set(map(int,raw_input().split()))\n",
    "N=int(raw_input())\n",
    "for i in range(N):\n",
    "    a=raw_input().split()\n",
    "    b=set(map(int,raw_input().split()))\n",
    "    if a[0] == 'update':\n",
    "        k.update(b)\n",
    "    elif a[0] == 'intersection_update':\n",
    "        k.intersection_update(b)   \n",
    "    elif a[0] == 'difference_update':\n",
    "        k.difference_update(b)\n",
    "    else:\n",
    "        k.symmetric_difference_update(b)\n",
    "print (sum(k))"
   ]
  },
  {
   "cell_type": "markdown",
   "id": "0af0fa8d-ec4e-4bb8-8710-e60267de6a32",
   "metadata": {},
   "source": [
    "The Captain's room"
   ]
  },
  {
   "cell_type": "code",
   "execution_count": null,
   "id": "1bd92b2c-a15a-4b86-9e11-1d06e28e51be",
   "metadata": {},
   "outputs": [],
   "source": [
    "n = int(raw_input());\n",
    "dic = {} \n",
    "for x in raw_input().split():\n",
    "  dic[x] = dic.get(x,0) + 1\n",
    "for key in dic:\n",
    "  if dic[key] != n: \n",
    "    print key\n",
    "    break     #taken from the discussion"
   ]
  },
  {
   "cell_type": "markdown",
   "id": "9e61252c-4a3b-4839-9f1a-db2b695e5625",
   "metadata": {},
   "source": [
    "Check subset"
   ]
  },
  {
   "cell_type": "code",
   "execution_count": null,
   "id": "bde53c37-715c-415b-879d-3c72e11b4b0d",
   "metadata": {},
   "outputs": [],
   "source": [
    "t=int(raw_input())\n",
    "for i in range(t):\n",
    "    a=int(raw_input())\n",
    "    A=set(map(int,raw_input().split()))\n",
    "    b=int(raw_input())\n",
    "    B=set(map(int,raw_input().split()))\n",
    "    print(A.issubset(B))"
   ]
  },
  {
   "cell_type": "markdown",
   "id": "ef5cc77d-c05a-4f53-9771-9fcec9c4131b",
   "metadata": {},
   "source": [
    "Check Strict Superset"
   ]
  },
  {
   "cell_type": "code",
   "execution_count": null,
   "id": "342e48a3-7328-45f5-9a33-6d5a256fad7d",
   "metadata": {},
   "outputs": [],
   "source": [
    "A=set(map(int,raw_input().split()))\n",
    "n=int(raw_input())\n",
    "c=''\n",
    "for i in range(n):\n",
    "    B=set(map(int,raw_input().split()))\n",
    "    if A.issuperset(B)==False:\n",
    "        c='False'\n",
    "        break\n",
    "    else:\n",
    "        c='True'\n",
    "print(c)"
   ]
  },
  {
   "cell_type": "markdown",
   "id": "eb4a050f-9d03-450e-a8c4-784c62fde0ca",
   "metadata": {},
   "source": [
    "# PY-COLLECTIONS"
   ]
  },
  {
   "cell_type": "markdown",
   "id": "7ed4dd14-1208-465b-bf46-cdee164718ef",
   "metadata": {},
   "source": [
    "collection.Counter("
   ]
  },
  {
   "cell_type": "code",
   "execution_count": null,
   "id": "ced7171c-cb4e-4bba-8573-a5425be37793",
   "metadata": {},
   "outputs": [],
   "source": [
    "from collections import Counter\n",
    "n=int(raw_input())\n",
    "X=Counter(map(int,raw_input().split()))\n",
    "nx=int(raw_input())\n",
    "s=0\n",
    "for i in range(nx):\n",
    "    a=map(int,raw_input().split())\n",
    "    if X[a[0]]:\n",
    "        s+=a[1]\n",
    "        X[a[0]]-=1\n",
    "print(s)"
   ]
  },
  {
   "cell_type": "markdown",
   "id": "1cb7d044-d5b9-41f5-842a-4faac880acea",
   "metadata": {},
   "source": [
    "DefaultDict Tutorial"
   ]
  },
  {
   "cell_type": "code",
   "execution_count": null,
   "id": "d3659a6f-8830-483c-8842-5b8903a412e5",
   "metadata": {},
   "outputs": [],
   "source": [
    "from collections import defaultdict\n",
    "d = defaultdict(list)\n",
    "n,m=map(int,input().split())\n",
    "b=[]\n",
    "for i in range(n):\n",
    "    d[input()].append(i+1)\n",
    "for i in range(m):\n",
    "    b.append(input())\n",
    "for i in range(m):\n",
    "    if b[i] in d:\n",
    "        print(\" \".join(map(str,d[b[i]])))\n",
    "    else:\n",
    "        print('-1')"
   ]
  },
  {
   "cell_type": "markdown",
   "id": "e66f7f2e-1488-46a5-af5a-853816bcebf6",
   "metadata": {},
   "source": [
    "Collections.namedtuple()"
   ]
  },
  {
   "cell_type": "code",
   "execution_count": null,
   "id": "2a37e56c-42b2-48a3-b3f5-dc6e21caac96",
   "metadata": {},
   "outputs": [],
   "source": [
    "n,a,t= int(input()),list(input().split()),0\n",
    "for i in range(n):\n",
    "    t+=int(list(input().split())[a.index('MARKS')])\n",
    "print(t/n)"
   ]
  },
  {
   "cell_type": "markdown",
   "id": "9cfccfe0-0026-4a2a-88e8-225f1ef5b0b6",
   "metadata": {},
   "source": [
    "Collections.OrderedDict()"
   ]
  },
  {
   "cell_type": "code",
   "execution_count": null,
   "id": "b3e08463-67ec-42f8-96f0-fd8298a7d08c",
   "metadata": {},
   "outputs": [],
   "source": [
    "from collections import OrderedDict\n",
    "n=int(input())\n",
    "d={}\n",
    "for i in range(n):\n",
    "    a=input().split()\n",
    "    i=1\n",
    "    b=a[0]\n",
    "    while a[i].isalpha():\n",
    "        b=b+' '+a[i]\n",
    "        i+=1\n",
    "    if b in d.keys():\n",
    "        d[b]+= int(a[i])\n",
    "    else:\n",
    "        d[b]= int(a[i])\n",
    "        \n",
    "for i in d:\n",
    "    print(i,d[i])"
   ]
  },
  {
   "cell_type": "markdown",
   "id": "b0b0aa16-65d4-4065-94bf-56f41d02bc0d",
   "metadata": {},
   "source": [
    "Word Order"
   ]
  },
  {
   "cell_type": "code",
   "execution_count": null,
   "id": "832b0c84-adc5-457a-9184-0480fb3846be",
   "metadata": {},
   "outputs": [],
   "source": [
    "n=int(input())\n",
    "d={}\n",
    "for i in range(n):\n",
    "    a=input()\n",
    "    if a in d.keys():\n",
    "        d[a]+=1\n",
    "    else:\n",
    "        d[a]=1\n",
    "        \n",
    "print(len(d))\n",
    "b=[]\n",
    "for i in d:\n",
    "    b.append(str(d[i]))\n",
    "print(' '.join(b))"
   ]
  },
  {
   "cell_type": "markdown",
   "id": "f7c268ec-27f8-4055-8a0b-0519a8e3458a",
   "metadata": {},
   "source": [
    "collections.deque()"
   ]
  },
  {
   "cell_type": "code",
   "execution_count": null,
   "id": "6ac46b6d-e4b1-4f62-9770-668f7670c258",
   "metadata": {},
   "outputs": [],
   "source": [
    "from collections import deque\n",
    "d = deque()\n",
    "n=int(input())\n",
    "for i in range(n):\n",
    "    a=input().split()\n",
    "    if a[0]=='append':\n",
    "        d.append(a[1])\n",
    "    elif a[0]=='appendleft':\n",
    "        d.appendleft(a[1])\n",
    "    elif a[0]=='popleft':\n",
    "        d.popleft()\n",
    "    else:\n",
    "        d.pop()\n",
    "print(' '.join(d))"
   ]
  },
  {
   "cell_type": "markdown",
   "id": "3053db60-8a4a-40e3-916d-a2aa7cffb452",
   "metadata": {},
   "source": [
    "Company Logo"
   ]
  },
  {
   "cell_type": "code",
   "execution_count": null,
   "id": "e1a85143-fed1-4f3a-b3c1-9ef416716c20",
   "metadata": {},
   "outputs": [],
   "source": [
    "import math\n",
    "import os\n",
    "import random\n",
    "import re\n",
    "import sys\n",
    "from collections import Counter\n",
    "\n",
    "class OrderedCounter(Counter):\n",
    "    pass\n",
    "\n",
    "if __name__ == '__main__':\n",
    "    [print(*c) for c in OrderedCounter(sorted(input())).most_common(3)]  #taken from the discussion"
   ]
  },
  {
   "cell_type": "markdown",
   "id": "83234b0e-599c-4fa4-a49c-209ae8136983",
   "metadata": {},
   "source": [
    "Piling up"
   ]
  },
  {
   "cell_type": "code",
   "execution_count": null,
   "id": "646300b0-ac3b-4954-b5af-b56bde0ca95f",
   "metadata": {},
   "outputs": [],
   "source": [
    "import math\n",
    "n=int(input())\n",
    "for i in range(n):\n",
    "    m=int(input())\n",
    "    a=list(map(int,input().split()))\n",
    "    b=math.inf\n",
    "    for j in range(m):\n",
    "        if a[0]<=a[m-j-1] and a[m-j-1]<=b:\n",
    "            b=a[m-j-1]\n",
    "            a.pop()\n",
    "        elif a[0]>=a[m-j-1] and a[0]<=b:\n",
    "            b=a[0]\n",
    "            a.pop(0)\n",
    "        else:\n",
    "            print('No')\n",
    "            break\n",
    "    if len(a)==0:\n",
    "        print('Yes')"
   ]
  },
  {
   "cell_type": "markdown",
   "id": "0150fe1e-8cae-4fa1-929d-b79ee7a00a4f",
   "metadata": {},
   "source": [
    "# DATE AND TIME"
   ]
  },
  {
   "cell_type": "markdown",
   "id": "b19d09b7-94ed-4679-bb83-98fadde2c3a1",
   "metadata": {},
   "source": [
    "Calendar Module"
   ]
  },
  {
   "cell_type": "code",
   "execution_count": null,
   "id": "99f7d60b-710c-455d-8373-d8e1391ae79a",
   "metadata": {},
   "outputs": [],
   "source": [
    "import calendar\n",
    "g=list(map(int,input().split()))\n",
    "print(calendar.day_name[calendar.weekday(g[2],g[0],g[1])].upper())"
   ]
  },
  {
   "cell_type": "markdown",
   "id": "e7c1723e-f304-42b3-ba11-1cbf57ad446d",
   "metadata": {},
   "source": [
    "Time Delta"
   ]
  },
  {
   "cell_type": "code",
   "execution_count": null,
   "id": "996fabe6-fec2-4cfe-9e68-a3deac5402af",
   "metadata": {},
   "outputs": [],
   "source": [
    "from datetime import datetime\n",
    "for i in range(int(input())):\n",
    "    t1=input()\n",
    "    t2=input()\n",
    "    f= '%a %d %b %Y %H:%M:%S %z'\n",
    "    print(int(abs((datetime.strptime(t1, f) - datetime.strptime(t2, f)).total_seconds())))"
   ]
  },
  {
   "cell_type": "markdown",
   "id": "0203ef78-740f-47b0-8ec6-143b0d95f91b",
   "metadata": {},
   "source": [
    "# EXEPTIONS"
   ]
  },
  {
   "cell_type": "code",
   "execution_count": null,
   "id": "4df6ea8c-953a-45b4-907e-e1400e544c30",
   "metadata": {},
   "outputs": [],
   "source": [
    "n=int(input())\n",
    "for i in range(n): \n",
    "    try:\n",
    "        a,b=map(int,input().split()) \n",
    "        print(a//b)\n",
    "    except Exception as error:\n",
    "        print('Error Code:',error)"
   ]
  },
  {
   "cell_type": "markdown",
   "id": "2c1bcc18-8c84-44f6-95ac-f60d11b47a55",
   "metadata": {},
   "source": [
    "# BUILT-INS"
   ]
  },
  {
   "cell_type": "markdown",
   "id": "5ff64656-fdc8-4174-9d57-a8fdb480d740",
   "metadata": {},
   "source": [
    "Zipped"
   ]
  },
  {
   "cell_type": "markdown",
   "id": "4d4f83ee-baa2-4192-813e-5d49f7285cbe",
   "metadata": {},
   "source": [
    "n,x=map(int,input().split())\n",
    "a=[]\n",
    "for i in range(x):\n",
    "    a.append(map(float,input().split()))\n",
    "for i in zip(*a): \n",
    "    print(sum(i)/len(i))     #last 'for' taken from the discussion"
   ]
  },
  {
   "cell_type": "markdown",
   "id": "5ed70a47-f692-4390-a5a5-277d6eee37bb",
   "metadata": {},
   "source": [
    "Athlete Sort"
   ]
  },
  {
   "cell_type": "code",
   "execution_count": null,
   "id": "3158e04d-f334-41db-b3f4-dcdd731ed8ab",
   "metadata": {},
   "outputs": [],
   "source": [
    "n,m=map(int,input().split())\n",
    "a=[]\n",
    "for i in range(n):\n",
    "    a.append(list(map(int,input().split())))\n",
    "k=int(input())\n",
    "a = sorted(a,key = lambda x :x[k])\n",
    "for i in a:\n",
    "    print(' '.join(list(map(str,i))))"
   ]
  },
  {
   "cell_type": "markdown",
   "id": "0664d72f-7071-4e58-83d1-b521c767912a",
   "metadata": {},
   "source": [
    "GinortS"
   ]
  },
  {
   "cell_type": "code",
   "execution_count": null,
   "id": "f30fd2dd-7e51-457e-bb3d-c1017d965de3",
   "metadata": {},
   "outputs": [],
   "source": [
    "s=input()\n",
    "s1=''\n",
    "s2=''\n",
    "s3=''\n",
    "s4=''\n",
    "for i in range(len(s)):\n",
    "    if s[i].isalpha() and s[i].isupper():\n",
    "        s1+=s[i]\n",
    "    elif s[i].isalpha():\n",
    "        s2+=s[i]\n",
    "    elif s[i].isnumeric() and int(s[i])%2==0:\n",
    "        s3+=s[i]\n",
    "    else:\n",
    "        s4+=s[i]\n",
    "print(''.join(sorted(s2))+''.join(sorted(s1))+''.join(sorted(s4))+''.join(sorted(s3)))"
   ]
  },
  {
   "cell_type": "markdown",
   "id": "445cd06c-7302-4af9-b731-07cc46fe9c46",
   "metadata": {},
   "source": [
    "# PYTHON FUNCTIONALS"
   ]
  },
  {
   "cell_type": "markdown",
   "id": "d94f5605-318d-4543-b66f-c69fef4e3671",
   "metadata": {},
   "source": [
    "Map and Lambda Function"
   ]
  },
  {
   "cell_type": "code",
   "execution_count": null,
   "id": "fb3d2229-0947-4f00-ae03-b750428d112a",
   "metadata": {},
   "outputs": [],
   "source": [
    "cube = lambda x: x**3\n",
    "\n",
    "def fibonacci(n):\n",
    "    a=[]\n",
    "    for i in range(n):\n",
    "        if i==0:\n",
    "            a.append(0)\n",
    "        elif i==1 or i==2:\n",
    "            a.append(1)\n",
    "        else:\n",
    "            a.append(a[i-1] + a[i-2])\n",
    "    return a\n",
    "if __name__ == '__main__':\n",
    "    n = int(input())\n",
    "    print(list(map(cube, fibonacci(n))))"
   ]
  },
  {
   "cell_type": "markdown",
   "id": "ddc5a46e-21f9-4862-9e5c-ea665a26e335",
   "metadata": {},
   "source": [
    "# REGEX AND PARSING CHALLENGES"
   ]
  },
  {
   "cell_type": "markdown",
   "id": "ede34e5e-3fa3-48dc-a780-27443ff57be9",
   "metadata": {},
   "source": [
    "Detect Floating Point Number"
   ]
  },
  {
   "cell_type": "code",
   "execution_count": null,
   "id": "eec5d526-3ea4-4fc7-8dba-0a711fcc1698",
   "metadata": {},
   "outputs": [],
   "source": [
    "import re\n",
    "n=int(input())\n",
    "for i in range(n):\n",
    "    if re.match(r'^[-+]?[0-9]*\\.[0-9]+$',input()):\n",
    "        print(True)\n",
    "    else:\n",
    "        print(False)"
   ]
  },
  {
   "cell_type": "markdown",
   "id": "733206a2-96b9-402e-b05d-2130efc76c3c",
   "metadata": {},
   "source": [
    "Re.split()"
   ]
  },
  {
   "cell_type": "code",
   "execution_count": null,
   "id": "00b47678-5946-47c4-aba9-b16482162fbc",
   "metadata": {},
   "outputs": [],
   "source": [
    "regex_pattern = r\"[.,]\"\t\n",
    "\n",
    "import re\n",
    "print(\"\\n\".join(re.split(regex_pattern, input())))"
   ]
  },
  {
   "cell_type": "markdown",
   "id": "564a8e8c-f7df-4025-8ed4-1107da31881d",
   "metadata": {},
   "source": [
    "Group(), Groups() & Groupdict()"
   ]
  },
  {
   "cell_type": "code",
   "execution_count": null,
   "id": "77c9ade7-08b1-4f23-843f-6b3edb4ab5c2",
   "metadata": {},
   "outputs": [],
   "source": [
    "import re\n",
    "a=re.findall(r\"([A-Za-z0-9])\\1+\",input())\n",
    "if a: \n",
    "    print(a[0])\n",
    "else:\n",
    "    print(-1)      #taken from the discussion"
   ]
  },
  {
   "cell_type": "markdown",
   "id": "cfa0244e-74fe-4317-89b7-ecdd7295c86c",
   "metadata": {},
   "source": [
    "Re.findall() & Re.finditer()\n",
    "\n"
   ]
  },
  {
   "cell_type": "code",
   "execution_count": null,
   "id": "b72f22e7-6040-4a74-976b-9c09b7c0b128",
   "metadata": {},
   "outputs": [],
   "source": [
    "import re\n",
    "a=re.findall(r'\\w',input())\n",
    "v=['a','e','i','o','u','A','E','I','O','U']\n",
    "i=[]\n",
    "for j in range(len(a)):\n",
    "    if a[j] not in v:\n",
    "        i.append(j)\n",
    "c=True\n",
    "for j in range(len(i)-1):\n",
    "    if i[j]<i[j+1]-2:\n",
    "        c=False\n",
    "        print(''.join(map(str,a[i[j]+1:i[j+1]])))\n",
    "if c:\n",
    "    print(-1)"
   ]
  },
  {
   "cell_type": "markdown",
   "id": "e9653be8-3cba-4d31-a996-09883252a2f6",
   "metadata": {},
   "source": [
    "Re.start() & Re.end()"
   ]
  },
  {
   "cell_type": "code",
   "execution_count": null,
   "id": "bdffbdd5-0119-469f-b00a-46fce36d9e5a",
   "metadata": {},
   "outputs": [],
   "source": [
    "import re\n",
    "s=input()\n",
    "k=input()\n",
    "r = re.compile(k).search(s)\n",
    "if not r: print ('(-1, -1)')\n",
    "while r:\n",
    "    print (\"({0}, {1})\".format(r.start(), r.end() - 1))\n",
    "    r=re.compile(k).search(s,r.start() + 1)                   #'while' taken from the discussion"
   ]
  },
  {
   "cell_type": "markdown",
   "id": "8dbe9679-c0bd-430d-8a07-4eb483a87242",
   "metadata": {},
   "source": [
    "Regex Substitution"
   ]
  },
  {
   "cell_type": "code",
   "execution_count": null,
   "id": "c14560ca-fa61-41ac-9376-0e01c77761ee",
   "metadata": {},
   "outputs": [],
   "source": [
    "import re\n",
    "n=int(input())\n",
    "b=''\n",
    "for i in range(n):\n",
    "   a=input()\n",
    "   while b!=a:\n",
    "    b=a\n",
    "    a=re.sub(r\"\\ \\&\\&\\ \",\" and \",a)\n",
    "    a=re.sub(r\"\\ \\|\\|\\ \",\" or \",a)\n",
    "   print(a)"
   ]
  },
  {
   "cell_type": "markdown",
   "id": "4ad6aba5-47e5-403b-9589-b65ab3efc0e3",
   "metadata": {},
   "source": [
    "Validating Roman Numerals"
   ]
  },
  {
   "cell_type": "code",
   "execution_count": null,
   "id": "5a6336d4-55b1-4826-b7fc-f952db9c33e7",
   "metadata": {},
   "outputs": [],
   "source": [
    "regex_pattern = r\"M{0,3}(C[MD]|D?C{0,3})(X[CL]|L?X{0,3})(I[VX]|V?I{0,3})$\"\t\n",
    "import re\n",
    "print(str(bool(re.match(regex_pattern, input()))))"
   ]
  },
  {
   "cell_type": "markdown",
   "id": "facfc7b1-8a21-44c6-b401-23860c4913b7",
   "metadata": {},
   "source": [
    "Validating phone numbers"
   ]
  },
  {
   "cell_type": "code",
   "execution_count": null,
   "id": "757cbc09-0eb0-45fc-90f6-1fece7f2d690",
   "metadata": {},
   "outputs": [],
   "source": [
    "n=int(input())\n",
    "for i in range(n):\n",
    "    a=input()\n",
    "    if len(a)==10 and (a[0]=='7' or a[0]=='8' or a[0]=='9') and a.isdigit():\n",
    "        print('YES')\n",
    "    else:\n",
    "        print('NO')"
   ]
  },
  {
   "cell_type": "markdown",
   "id": "b3c1b2ca-06e6-4c6a-9fcd-941786e892cd",
   "metadata": {},
   "source": [
    "Validating and Parsing Email Addresses"
   ]
  },
  {
   "cell_type": "code",
   "execution_count": null,
   "id": "4e03949a-e389-4a67-9c71-54347266e29f",
   "metadata": {},
   "outputs": [],
   "source": [
    "import re\n",
    "n=int(input())\n",
    "for i in range(n):    \n",
    "    name,mail=input().split()\n",
    "    mail1=re.match(r'<[A-Za-z](\\w|-|\\.|_)+@[A-Za-z]+\\.[A-Za-z]{1,3}>', mail)\n",
    "    if mail1:\n",
    "        print(name,mail)"
   ]
  },
  {
   "cell_type": "markdown",
   "id": "e168055a-de98-4bec-a18b-cd8a61b3b0ef",
   "metadata": {},
   "source": [
    "Hex Color Code"
   ]
  },
  {
   "cell_type": "code",
   "execution_count": null,
   "id": "6a0c1ef9-206c-4613-a247-980d4ef79ef0",
   "metadata": {},
   "outputs": [],
   "source": [
    "import re\n",
    "N=int(input())\n",
    "\n",
    "for i in range(0,N):\n",
    "    s=input()\n",
    "\n",
    "    x=s.split()\n",
    "\n",
    "    if len(x)>1  and  '{' not in x:\n",
    "        x=re.findall(r'#[a-fA-F0-9]{3,6}',s)\n",
    "        [print(i) for  i in x]                   #taken from the discussion"
   ]
  },
  {
   "cell_type": "markdown",
   "id": "d1d615e5-995e-4ce8-a2f4-5b11eae68196",
   "metadata": {},
   "source": [
    "HTML Parser - Part 1"
   ]
  },
  {
   "cell_type": "code",
   "execution_count": null,
   "id": "dbe96ac5-0761-45a2-976f-73e88e71eaf5",
   "metadata": {},
   "outputs": [],
   "source": [
    "from html.parser import HTMLParser\n",
    "class MyHTMLParser(HTMLParser):\n",
    "    def handle_starttag(self, tag, attrs):        \n",
    "        print ('Start :',tag)\n",
    "        for ele in attrs:\n",
    "            print ('->',ele[0],'>',ele[1])\n",
    "            \n",
    "    def handle_endtag(self, tag):\n",
    "        print ('End   :',tag)\n",
    "        \n",
    "    def handle_startendtag(self, tag, attrs):\n",
    "        print ('Empty :',tag)\n",
    "        for ele in attrs:\n",
    "            print ('->',ele[0],'>',ele[1])\n",
    "            \n",
    "MyParser = MyHTMLParser()\n",
    "MyParser.feed(''.join([input().strip() for _ in range(int(input()))]))       #taken from the discussion"
   ]
  },
  {
   "cell_type": "markdown",
   "id": "85bda93e-21f0-48c3-8606-157420fe7099",
   "metadata": {},
   "source": [
    "HTML Parser - Part 2"
   ]
  },
  {
   "cell_type": "code",
   "execution_count": null,
   "id": "e175eb06-5c0a-47bc-b38c-ecf980d83acb",
   "metadata": {},
   "outputs": [],
   "source": [
    "from html.parser import HTMLParser\n",
    "\n",
    "class MyHTMLParser(HTMLParser):\n",
    "    def handle_comment(self, data):\n",
    "        number_of_line = len(data.split('\\n'))\n",
    "        if number_of_line>1:\n",
    "            print('>>> Multi-line Comment')\n",
    "        else:\n",
    "            print('>>> Single-line Comment')\n",
    "        if data.strip():\n",
    "            print(data)\n",
    "\n",
    "    def handle_data(self, data):\n",
    "        if data.strip():\n",
    "            print(\">>> Data\")\n",
    "            print(data)\n",
    "\n",
    "    \n",
    "html = \"\"       \n",
    "for i in range(int(input())):\n",
    "    html += input().rstrip()\n",
    "    html += '\\n'\n",
    "    \n",
    "parser = MyHTMLParser()\n",
    "parser.feed(html)\n",
    "parser.close()                #taken from the discussion"
   ]
  },
  {
   "cell_type": "markdown",
   "id": "a1e53b75-81f5-4ccc-9a81-a9538c4bc61b",
   "metadata": {},
   "source": [
    "Detect HTML Tags, Attributes and Attribute Values"
   ]
  },
  {
   "cell_type": "code",
   "execution_count": null,
   "id": "e7349955-a62e-4cee-a63a-260847536e73",
   "metadata": {},
   "outputs": [],
   "source": [
    "from html.parser import HTMLParser\n",
    "class MyHTMLParser(HTMLParser):\n",
    "    def handle_starttag(self, tag, attrs):\n",
    "        print(tag)\n",
    "        [print('-> {} > {}'.format(*attr)) for attr in attrs]\n",
    "n=int(input())\n",
    "html = '\\n'.join([input() for i in range(n)])\n",
    "parser = MyHTMLParser()\n",
    "parser.feed(html)\n",
    "parser.close()             #taken from the discussion"
   ]
  },
  {
   "cell_type": "markdown",
   "id": "cc4aeaa3-59d2-4e52-b062-4747c0debc99",
   "metadata": {},
   "source": [
    "Validating UID"
   ]
  },
  {
   "cell_type": "code",
   "execution_count": null,
   "id": "f729b8c4-9377-467b-b1f5-4e17e61c6f36",
   "metadata": {},
   "outputs": [],
   "source": [
    "import re\n",
    "\n",
    "for _ in range(int(input())):\n",
    "    u = ''.join(sorted(input()))\n",
    "    try:\n",
    "        assert re.search(r'[A-Z]{2}', u)\n",
    "        assert re.search(r'\\d\\d\\d', u)\n",
    "        assert not re.search(r'[^a-zA-Z0-9]', u)\n",
    "        assert not re.search(r'(.)\\1', u)\n",
    "        assert len(u) == 10\n",
    "    except:\n",
    "        print('Invalid')\n",
    "    else:\n",
    "        print('Valid')                #taken from the discussion"
   ]
  },
  {
   "cell_type": "markdown",
   "id": "0dceb1ff-29f7-437c-a74a-324411d577a6",
   "metadata": {},
   "source": [
    "Validating Credit Card Numbers\n",
    "\n"
   ]
  },
  {
   "cell_type": "code",
   "execution_count": null,
   "id": "a3812fa2-8986-4e85-8e25-0c2a272927a0",
   "metadata": {},
   "outputs": [],
   "source": [
    "import re\n",
    "n=int(input())\n",
    "a=re.compile(\n",
    "    r\"^\"\n",
    "    r\"(?!.*(\\d)(-?\\1){3})\"\n",
    "    r\"[456]\"\n",
    "    r\"\\d{3}\"\n",
    "    r\"(?:-?\\d{4}){3}\"\n",
    "    r\"$\")\n",
    "for i in range(n):\n",
    "    print(\"Valid\" if a.search(input()) else \"Invalid\")"
   ]
  },
  {
   "cell_type": "markdown",
   "id": "ea2445c3-dea4-416e-9292-df2a284e764f",
   "metadata": {},
   "source": [
    "Validating Postal Codes"
   ]
  },
  {
   "cell_type": "code",
   "execution_count": null,
   "id": "a2608d55-3c9e-4f97-b5a2-012b065daf73",
   "metadata": {},
   "outputs": [],
   "source": [
    "regex_integer_in_range = r\"^[1-9][\\d]{5}$\"\t# Do not delete 'r'.\n",
    "regex_alternating_repetitive_digit_pair = r\"(\\d)(?=\\d\\1)\"\t# Do not delete 'r'.\n",
    "\n",
    "\n",
    "import re\n",
    "P = input()\n",
    "\n",
    "print (bool(re.match(regex_integer_in_range, P)) \n",
    "and len(re.findall(regex_alternating_repetitive_digit_pair, P)) < 2)"
   ]
  },
  {
   "cell_type": "markdown",
   "id": "e8916110-9572-4acc-90d0-1fc6884e7ae6",
   "metadata": {},
   "source": [
    "Matrix Script"
   ]
  },
  {
   "cell_type": "code",
   "execution_count": null,
   "id": "7b58ce9b-5cc1-41d9-8b04-ae028cc16e3b",
   "metadata": {},
   "outputs": [],
   "source": [
    "import re\n",
    "\n",
    "n, m = map(int, input().split())\n",
    "a, b = [], \"\"\n",
    "for _ in range(n):\n",
    "    a.append(input())\n",
    "\n",
    "for z in zip(*a):\n",
    "    b += \"\".join(z)\n",
    "\n",
    "print(re.sub(r\"(?<=\\w)([^\\w]+)(?=\\w)\", \" \", b))"
   ]
  },
  {
   "cell_type": "markdown",
   "id": "2b2637b1-db4a-40f7-9da9-6b069606bd36",
   "metadata": {},
   "source": [
    "# XLM"
   ]
  },
  {
   "cell_type": "markdown",
   "id": "1f30a860-43ba-499e-b294-6e7866145fa4",
   "metadata": {},
   "source": [
    "XML 1 - Find the Score"
   ]
  },
  {
   "cell_type": "code",
   "execution_count": null,
   "id": "f319668a-33b1-4a03-90b6-3cba6ce358e3",
   "metadata": {},
   "outputs": [],
   "source": [
    "import sys\n",
    "import xml.etree.ElementTree as etree\n",
    "\n",
    "def get_attr_number(node):\n",
    "    return sum(len(elem.items()) for elem in tree.iter())\n",
    "if __name__ == '__main__':\n",
    "    sys.stdin.readline()\n",
    "    xml = sys.stdin.read()\n",
    "    tree = etree.ElementTree(etree.fromstring(xml))\n",
    "    root = tree.getroot()\n",
    "    print(get_attr_number(root))"
   ]
  },
  {
   "cell_type": "markdown",
   "id": "5ba6d8c0-3065-4173-99ae-cfefe1c9126b",
   "metadata": {},
   "source": [
    "XML2 - Find the Maximum Depth"
   ]
  },
  {
   "cell_type": "code",
   "execution_count": null,
   "id": "e93a3e39-8827-4162-958c-d8a65817cc32",
   "metadata": {},
   "outputs": [],
   "source": [
    "import xml.etree.ElementTree as etree\n",
    "\n",
    "maxdepth = 0\n",
    "def depth(elem, level):\n",
    "    global maxdepth\n",
    "    if (level == maxdepth):\n",
    "        maxdepth += 1\n",
    "        \n",
    "    for i in elem:\n",
    "        depth(i, level + 1)\n",
    "\n",
    "if __name__ == '__main__':\n",
    "    n = int(input())\n",
    "    xml = \"\"\n",
    "    for i in range(n):\n",
    "        xml =  xml + input() + \"\\n\"\n",
    "    tree = etree.ElementTree(etree.fromstring(xml))\n",
    "    depth(tree.getroot(), -1)\n",
    "    print(maxdepth)"
   ]
  },
  {
   "cell_type": "markdown",
   "id": "13ac014a-f673-4afa-a9b2-c8eecc88669e",
   "metadata": {},
   "source": [
    "# Closures and Decorations"
   ]
  },
  {
   "cell_type": "markdown",
   "id": "2767e3e3-a4f6-4aad-9001-dd16c6506e77",
   "metadata": {},
   "source": [
    "Standardize Mobile Number Using Decorators"
   ]
  },
  {
   "cell_type": "code",
   "execution_count": null,
   "id": "05c726ed-48aa-4af9-8b1a-4c8a88f687d1",
   "metadata": {},
   "outputs": [],
   "source": [
    "def wrapper(f):\n",
    "    def fun(l):\n",
    "        f([\"+91 \"+i[-10:-5]+\" \"+i[-5:] for i in l])\n",
    "    return fun\n",
    "\n",
    "@wrapper\n",
    "def sort_phone(l):\n",
    "    print(*sorted(l), sep='\\n')\n",
    "\n",
    "if __name__ == '__main__':\n",
    "    l = [input() for _ in range(int(input()))]\n",
    "    sort_phone(l) "
   ]
  },
  {
   "cell_type": "markdown",
   "id": "48131632-21f6-4d5f-a208-695728d8e562",
   "metadata": {},
   "source": [
    "Decorators 2 - Name Directory"
   ]
  },
  {
   "cell_type": "code",
   "execution_count": null,
   "id": "f3c1de8c-b3ad-4141-b233-19914a4a1513",
   "metadata": {},
   "outputs": [],
   "source": [
    "import operator\n",
    "\n",
    "def person_lister(f):\n",
    "    def inner(people):\n",
    "        return map(f, sorted([[e[0], e[1], int(e[2]), e[3]] for e in people], key=operator.itemgetter(2)))\n",
    "    return inner\n",
    "\n",
    "@person_lister\n",
    "def name_format(person):\n",
    "    return (\"Mr. \" if person[3] == \"M\" else \"Ms. \") + person[0] + \" \" + person[1]\n",
    "\n",
    "if __name__ == '__main__':\n",
    "    people = [input().split() for i in range(int(input()))]\n",
    "    print(*name_format(people), sep='\\n')                         #taken from the discussion"
   ]
  },
  {
   "cell_type": "markdown",
   "id": "97103f0b-d0aa-47ba-85af-25cf2d623ad6",
   "metadata": {},
   "source": [
    "# NUMPY"
   ]
  },
  {
   "cell_type": "markdown",
   "id": "04b1edd9-f629-4b00-8cfd-9960c1a61e37",
   "metadata": {},
   "source": [
    "Arrays"
   ]
  },
  {
   "cell_type": "code",
   "execution_count": null,
   "id": "9632f901-e012-40d7-b3f8-0c37217e9142",
   "metadata": {},
   "outputs": [],
   "source": [
    "import numpy\n",
    "\n",
    "def arrays(arr):\n",
    "    return(numpy.array(arr[::-1], float))\n",
    "\n",
    "arr = input().strip().split(' ')\n",
    "result = arrays(arr)\n",
    "print(result)"
   ]
  },
  {
   "cell_type": "markdown",
   "id": "23992acc-5842-4e8f-9a30-8b01da5aa4f0",
   "metadata": {},
   "source": [
    "Shape and Reshape"
   ]
  },
  {
   "cell_type": "code",
   "execution_count": null,
   "id": "8dad3027-5979-4a74-8dd9-c03e35748910",
   "metadata": {},
   "outputs": [],
   "source": [
    "import numpy\n",
    "print(numpy.array(input().split(),int).reshape(3,3))"
   ]
  },
  {
   "cell_type": "markdown",
   "id": "d36d1638-3ec8-4c8c-9d25-58b4be55aa7e",
   "metadata": {},
   "source": [
    "Transpose and Flatten"
   ]
  },
  {
   "cell_type": "code",
   "execution_count": null,
   "id": "28de7d5d-9c5c-4c24-96a0-21000bbfa37f",
   "metadata": {},
   "outputs": [],
   "source": [
    "import numpy\n",
    "N,M=map(int, input().split())\n",
    "arr=numpy.array([input().split() for i in range(N)], int)\n",
    "print (arr.transpose())\n",
    "print (arr.flatten())\n"
   ]
  },
  {
   "cell_type": "markdown",
   "id": "5e476747-cc41-45c3-842e-1f48837ed55a",
   "metadata": {},
   "source": [
    "Concatenate"
   ]
  },
  {
   "cell_type": "code",
   "execution_count": null,
   "id": "6a237c67-90f2-41d7-9ef3-37c3255efbc7",
   "metadata": {},
   "outputs": [],
   "source": [
    "import numpy\n",
    "N,M,P=map(int, input().split())\n",
    "arr=numpy.array([input().split() for i in range(N)], int)\n",
    "arr1=numpy.array([input().split() for i in range(M)], int)\n",
    "print(numpy.concatenate((arr, arr1)))"
   ]
  },
  {
   "cell_type": "markdown",
   "id": "335c0d3c-ef40-4864-b65a-4a0d92236321",
   "metadata": {},
   "source": [
    "Zeros and Ones"
   ]
  },
  {
   "cell_type": "code",
   "execution_count": null,
   "id": "e209b46c-f252-4fe3-b597-b4acc61aa4e7",
   "metadata": {},
   "outputs": [],
   "source": [
    "import numpy\n",
    "a=tuple(map(int, input().split()))\n",
    "print(numpy.zeros(a,dtype=numpy.int))\n",
    "print(numpy.ones(a,dtype=numpy.int))"
   ]
  },
  {
   "cell_type": "markdown",
   "id": "39a0ca1b-bfb4-40c2-bcd9-b3ea955c8114",
   "metadata": {},
   "source": [
    "Eye and Identity\n",
    "\n"
   ]
  },
  {
   "cell_type": "code",
   "execution_count": null,
   "id": "320e4676-8793-4280-af6d-24e186fa8fa4",
   "metadata": {},
   "outputs": [],
   "source": [
    "import numpy\n",
    "n,m=map(int,input().split())\n",
    "numpy.set_printoptions(legacy='1.13')\n",
    "print(numpy.eye(n,m))"
   ]
  },
  {
   "cell_type": "markdown",
   "id": "3b480f6e-bd60-4e5b-8638-8a6c5a876a55",
   "metadata": {},
   "source": [
    "Array Mathematics"
   ]
  },
  {
   "cell_type": "code",
   "execution_count": null,
   "id": "38e1b5be-d2e2-4817-b0bc-6cd66c19ce3b",
   "metadata": {},
   "outputs": [],
   "source": [
    "import numpy\n",
    "n,m=map(int, input().split())\n",
    "a,b= (numpy.array([input().split() for i in range(n)], dtype=int) for j in range(2))\n",
    "print(a+b, a-b, a*b, a//b, a%b, a**b, sep='\\n')"
   ]
  },
  {
   "cell_type": "markdown",
   "id": "f888a386-294c-4943-8ffb-10a4f8be165a",
   "metadata": {},
   "source": [
    "Floor, Ceil and Rint"
   ]
  },
  {
   "cell_type": "code",
   "execution_count": null,
   "id": "ae7b5898-5521-4b26-a526-a4610bb9b84d",
   "metadata": {},
   "outputs": [],
   "source": [
    "import numpy\n",
    "numpy.set_printoptions(legacy='1.13')\n",
    "a=numpy.array(input().split(),float)\n",
    "print(numpy.floor(a))\n",
    "print(numpy.ceil(a))\n",
    "print(numpy.rint(a))"
   ]
  },
  {
   "cell_type": "markdown",
   "id": "1c215673-3171-4372-9a9d-f4f71770c078",
   "metadata": {},
   "source": [
    "Sum and Prod"
   ]
  },
  {
   "cell_type": "code",
   "execution_count": null,
   "id": "2d475951-2cc9-4067-9e09-92bc0261872a",
   "metadata": {},
   "outputs": [],
   "source": [
    "import numpy\n",
    "n,m=map(int, input().split())\n",
    "a=numpy.array([input().split() for i in range(n)],int)\n",
    "print(numpy.prod(numpy.sum(a, axis=0)))"
   ]
  },
  {
   "cell_type": "markdown",
   "id": "13af6d31-f6a5-4b02-8f6f-eb6c0c164988",
   "metadata": {},
   "source": [
    "Min and Max\n",
    "\n"
   ]
  },
  {
   "cell_type": "code",
   "execution_count": null,
   "id": "da9192e6-07b3-4c72-888b-6d82f845b8d6",
   "metadata": {},
   "outputs": [],
   "source": [
    "import numpy\n",
    "n,m=map(int,input().split())\n",
    "a=numpy.array([input().split() for i in range(n)],int)\n",
    "print(numpy.max(numpy.min(a,axis=1)))"
   ]
  },
  {
   "cell_type": "markdown",
   "id": "fdf4c1bd-f37c-400f-9632-41647f2b8b06",
   "metadata": {},
   "source": [
    "Mean, Var, and Std\n"
   ]
  },
  {
   "cell_type": "code",
   "execution_count": null,
   "id": "6a130aa9-1d9e-4748-ab22-13366158e781",
   "metadata": {},
   "outputs": [],
   "source": [
    "import numpy\n",
    "n,m= map(int, input().split())\n",
    "a=numpy.array([input().split() for _ in range(n)],dtype = int)\n",
    "\n",
    "print(numpy.mean(a,axis=1), numpy.var(a,axis=0), round(numpy.std(a),11), sep='\\n')"
   ]
  },
  {
   "cell_type": "markdown",
   "id": "19b1f80d-e457-4ffa-97c1-df65a59e1645",
   "metadata": {},
   "source": [
    "Dot and Cross"
   ]
  },
  {
   "cell_type": "code",
   "execution_count": null,
   "id": "a0fa623f-05b6-406a-866b-a6094a06c19c",
   "metadata": {},
   "outputs": [],
   "source": [
    "import numpy\n",
    "n=int(input())\n",
    "arr=numpy.array([list(map(int,input().split())) for _ in range(n)])\n",
    "arr1=numpy.array([list(map(int,input().split())) for _ in range(n)])\n",
    "print(numpy.dot(arr,arr1))"
   ]
  },
  {
   "cell_type": "markdown",
   "id": "9d91a586-6bfd-4b85-a1f9-316d9ee4e502",
   "metadata": {},
   "source": [
    "Inner and Outer"
   ]
  },
  {
   "cell_type": "code",
   "execution_count": null,
   "id": "9679601c-432c-44f5-aaea-e37e77810b66",
   "metadata": {},
   "outputs": [],
   "source": [
    "import numpy\n",
    "arr=numpy.array(input().split(),int)\n",
    "arr1=numpy.array(input().split(),int)\n",
    "print(numpy.inner(arr,arr1), numpy.outer(arr,arr1), sep='\\n')"
   ]
  },
  {
   "cell_type": "markdown",
   "id": "895c853b-7337-4042-84ed-581ce1be59c7",
   "metadata": {},
   "source": [
    "Polynomials\n",
    "\n"
   ]
  },
  {
   "cell_type": "code",
   "execution_count": null,
   "id": "522d396a-ad8c-4d69-87d4-6cc8aaf283d7",
   "metadata": {},
   "outputs": [],
   "source": [
    "import numpy\n",
    "a=list(map(float,input().split()))\n",
    "b=float(input())\n",
    "print(numpy.polyval(a,b))"
   ]
  },
  {
   "cell_type": "markdown",
   "id": "7b449be7-be9e-4803-ae53-bdb02bfd71ea",
   "metadata": {},
   "source": [
    "Linear Algebra"
   ]
  },
  {
   "cell_type": "code",
   "execution_count": null,
   "id": "3f76e480-8c4e-442a-a45b-f7daa0751cd0",
   "metadata": {},
   "outputs": [],
   "source": [
    "import numpy\n",
    "n=int(input())\n",
    "a=numpy.array([input().split() for i in range(n)],float)\n",
    "numpy.set_printoptions(legacy='1.13')\n",
    "print(numpy.linalg.det(a))"
   ]
  },
  {
   "cell_type": "markdown",
   "id": "e9cdc71c-d44d-448b-ac7b-bd2f80a7a4cc",
   "metadata": {},
   "source": [
    "# PROBLEM 2"
   ]
  },
  {
   "cell_type": "markdown",
   "id": "f0f60dff-3c45-4e05-8df9-b9fc116a28cd",
   "metadata": {},
   "source": [
    "Birthday Cake Candles"
   ]
  },
  {
   "cell_type": "code",
   "execution_count": null,
   "id": "fb8d8138-486f-4af5-9550-e9a5a4841407",
   "metadata": {},
   "outputs": [],
   "source": [
    "import math\n",
    "import os\n",
    "import random\n",
    "import re\n",
    "import sys\n",
    "import collections\n",
    "def birthdayCakeCandles(candles):\n",
    "    return collections.Counter(candles)[max(candles)] \n",
    "\n",
    "if __name__ == '__main__':\n",
    "    fptr = open(os.environ['OUTPUT_PATH'], 'w')\n",
    "\n",
    "    candles_count = int(input().strip())\n",
    "\n",
    "    candles = list(map(int, input().rstrip().split()))\n",
    "\n",
    "    result = birthdayCakeCandles(candles)\n",
    "\n",
    "    fptr.write(str(result) + '\\n')\n",
    "\n",
    "    fptr.close()"
   ]
  },
  {
   "cell_type": "markdown",
   "id": "5098aee5-0b4f-45b6-962e-474810dbdbb4",
   "metadata": {},
   "source": [
    "Number Line Jumps"
   ]
  },
  {
   "cell_type": "code",
   "execution_count": null,
   "id": "0ed488e3-b201-4c4e-b61f-5dcb9a1ed8a8",
   "metadata": {},
   "outputs": [],
   "source": [
    "import math\n",
    "import os\n",
    "import random\n",
    "import re\n",
    "import sys\n",
    "def kangaroo(x1, v1, x2, v2):\n",
    "    if (x2 - x1) * (v2 - v1) < 0 and (x2 - x1) % (v2 - v1) == 0:\n",
    "        return('YES')\n",
    "    else:\n",
    "        return('NO')\n",
    "if __name__ == '__main__':\n",
    "    fptr = open(os.environ['OUTPUT_PATH'], 'w')\n",
    "\n",
    "    first_multiple_input = input().rstrip().split()\n",
    "\n",
    "    x1 = int(first_multiple_input[0])\n",
    "\n",
    "    v1 = int(first_multiple_input[1])\n",
    "\n",
    "    x2 = int(first_multiple_input[2])\n",
    "\n",
    "    v2 = int(first_multiple_input[3])\n",
    "\n",
    "    result = kangaroo(x1, v1, x2, v2)\n",
    "\n",
    "    fptr.write(result + '\\n')\n",
    "\n",
    "    fptr.close()"
   ]
  },
  {
   "cell_type": "markdown",
   "id": "0335481a-ce6f-4645-8141-ba877a0f3d2d",
   "metadata": {},
   "source": [
    "Viral Advertising"
   ]
  },
  {
   "cell_type": "code",
   "execution_count": null,
   "id": "4b874b1d-30bc-464a-a89b-5f6ced3ea8a9",
   "metadata": {},
   "outputs": [],
   "source": [
    "import math\n",
    "import os\n",
    "import random\n",
    "import re\n",
    "import sys\n",
    "def viralAdvertising(n):\n",
    "    a=2\n",
    "    b=2\n",
    "    if n==1:\n",
    "        return b\n",
    "    else:\n",
    "        for i in range(1,n):\n",
    "            a=(a*3)//2\n",
    "            b+=a\n",
    "        return b\n",
    "        \n",
    "if __name__ == '__main__':\n",
    "    fptr = open(os.environ['OUTPUT_PATH'], 'w')\n",
    "\n",
    "    n = int(input().strip())\n",
    "\n",
    "    result = viralAdvertising(n)\n",
    "\n",
    "    fptr.write(str(result) + '\\n')\n",
    "\n",
    "    fptr.close()"
   ]
  },
  {
   "cell_type": "markdown",
   "id": "e97d2267-aaee-40da-9872-eed5e26b7a53",
   "metadata": {},
   "source": [
    "Recursive Digit Sum"
   ]
  },
  {
   "cell_type": "code",
   "execution_count": null,
   "id": "7546df50-102e-4326-86c2-095ef8ceb42b",
   "metadata": {},
   "outputs": [],
   "source": [
    "import math\n",
    "import os\n",
    "import random\n",
    "import re\n",
    "import sys\n",
    "def superDigit(n, k):\n",
    "    a=int(n)*int(k)%9\n",
    "    if a!=0:\n",
    "        return a\n",
    "    else:\n",
    "        return 9\n",
    "    \n",
    "\n",
    "if __name__ == '__main__':\n",
    "    fptr = open(os.environ['OUTPUT_PATH'], 'w')\n",
    "\n",
    "    first_multiple_input = input().rstrip().split()\n",
    "\n",
    "    n = first_multiple_input[0]\n",
    "\n",
    "    k = int(first_multiple_input[1])\n",
    "\n",
    "    result = superDigit(n, k)\n",
    "\n",
    "    fptr.write(str(result) + '\\n')\n",
    "\n",
    "    fptr.close()"
   ]
  },
  {
   "cell_type": "markdown",
   "id": "ba8e6ab1-c09d-4190-b373-f05f45f3ce54",
   "metadata": {},
   "source": [
    "Insertion Sort - Part 1"
   ]
  },
  {
   "cell_type": "code",
   "execution_count": null,
   "id": "fef865ed-b967-4400-b22b-4e41a034cf9b",
   "metadata": {},
   "outputs": [],
   "source": [
    "import math\n",
    "import os\n",
    "import random\n",
    "import re\n",
    "import sys\n",
    "def insertionSort1(n, arr):\n",
    "\n",
    "    a=arr[-1]\n",
    "    i=n-2 \n",
    "    while (a<arr[i]) and (i>=0):\n",
    "        arr[i+1]=arr[i]\n",
    "        print(' '.join(map(str,arr)))   \n",
    "        i-=1\n",
    "    arr[i+1]=a\n",
    "    print(' '.join(map(str,arr)))   \n",
    "if __name__ == '__main__':\n",
    "    n = int(input().strip())\n",
    "\n",
    "    arr = list(map(int, input().rstrip().split()))\n",
    "\n",
    "    insertionSort1(n, arr)"
   ]
  },
  {
   "cell_type": "markdown",
   "id": "664a5aa3-62e3-435c-a64f-0143372851cc",
   "metadata": {},
   "source": [
    "Insertion Sort - Part 2"
   ]
  },
  {
   "cell_type": "code",
   "execution_count": null,
   "id": "be00412b-4b99-4cfe-bc69-af65ac4031ca",
   "metadata": {},
   "outputs": [],
   "source": [
    "import math\n",
    "import os\n",
    "import random\n",
    "import re\n",
    "import sys\n",
    "def insertionSort2(n, arr):\n",
    "    for i in range(1,n):\n",
    "        key=arr[i]\n",
    "        j=i-1\n",
    "        while j>=0 and arr[j]>key:\n",
    "            arr[j+1]=arr[j]\n",
    "            j=j-1\n",
    "        arr[j+1]=key\n",
    "        print(*arr)\n",
    "\n",
    "if __name__ == '__main__':\n",
    "    n = int(input().strip())\n",
    "\n",
    "    arr = list(map(int, input().rstrip().split()))\n",
    "\n",
    "    insertionSort2(n, arr)                #taken from the discussion"
   ]
  }
 ],
 "metadata": {
  "kernelspec": {
   "display_name": "Python 3",
   "language": "python",
   "name": "python3"
  },
  "language_info": {
   "codemirror_mode": {
    "name": "ipython",
    "version": 3
   },
   "file_extension": ".py",
   "mimetype": "text/x-python",
   "name": "python",
   "nbconvert_exporter": "python",
   "pygments_lexer": "ipython3",
   "version": "3.8.8"
  }
 },
 "nbformat": 4,
 "nbformat_minor": 5
}
